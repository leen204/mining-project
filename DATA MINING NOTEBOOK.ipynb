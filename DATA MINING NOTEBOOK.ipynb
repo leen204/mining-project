{
  "nbformat": 4,
  "nbformat_minor": 0,
  "metadata": {
    "colab": {
      "provenance": [],
      "toc_visible": true,
      "authorship_tag": "ABX9TyNLLTwUSY93fPWzLeppqWL7",
      "include_colab_link": true
    },
    "kernelspec": {
      "name": "python3",
      "display_name": "Python 3"
    },
    "language_info": {
      "name": "python"
    }
  },
  "cells": [
    {
      "cell_type": "markdown",
      "metadata": {
        "id": "view-in-github",
        "colab_type": "text"
      },
      "source": [
        "<a href=\"https://colab.research.google.com/github/leen204/mining-project/blob/main/DATA%20MINING%20NOTEBOOK.ipynb\" target=\"_parent\"><img src=\"https://colab.research.google.com/assets/colab-badge.svg\" alt=\"Open In Colab\"/></a>"
      ]
    },
    {
      "cell_type": "markdown",
      "source": [
        "#Goal"
      ],
      "metadata": {
        "id": "pv-OcoBfqGi6"
      }
    },
    {
      "cell_type": "markdown",
      "source": [
        "\n",
        "Goal: The goal of this project is to analyze the dataset, identify significant risk factors, and develop predictive models to assist in the early detection and understanding of Alzheimer’s Disease.\n"
      ],
      "metadata": {
        "id": "4mTwmufUqy70"
      }
    },
    {
      "cell_type": "markdown",
      "source": [
        "#Source\n"
      ],
      "metadata": {
        "id": "v3HxWHb-qGN3"
      }
    },
    {
      "cell_type": "markdown",
      "source": [
        "https://www.kaggle.com/datasets/rabieelkharoua/alzheimers-disease-dataset"
      ],
      "metadata": {
        "id": "HrkuMgm6q-x4"
      }
    },
    {
      "cell_type": "markdown",
      "source": [
        "#Dataset information\n"
      ],
      "metadata": {
        "id": "ZV5rCdouhMF1"
      }
    },
    {
      "cell_type": "markdown",
      "source": [
        "Number of attributes: 13\n",
        "\n",
        "Class label: Diagnosis\n",
        "\n",
        "1- Age: integer attribute showing the age of the patient ranging from 60-90\n",
        "\n",
        "2- Gender: Shows the gender of the patient where 0 is a male and 1 is a female\n",
        "\n",
        "3- Ethnicity: integer number attribute where each number corresponds to a certain ethnicity\n",
        "-0 is Caucasian\n",
        "-1 African American\n",
        "-2 Asian\n",
        "-3 Other\n",
        "\n",
        "4- Education level: integer number attribute where each number corresponds to the education level of the patient\n",
        "-0 None\n",
        "-1 High School\n",
        "-2 Bachelor's\n",
        "-3 Higher\n",
        "\n",
        "5- BMI: Continuous number attribute which stands for Body Mass Index of the patients, ranging from 15-40\n",
        "\n",
        "6- Physical Activity: Continuous number atrribute that shows the Weekly physical activity in hours, ranging from 0-10\n",
        "\n",
        "7- Sleep Quality: Continuous number attribute that shows Sleep quality score, ranging from 4-10\n",
        "\n",
        "8- Family History: number attribute that acts as a boolean determining whether the patient's family has a history of alzheimer or not\n",
        "\n",
        "9- Cholesterol total: continuous number attribute showing total cholesterol levels, ranging from 150-300 mg\\Dl\n",
        "\n",
        "10- MMSE: continuous number attribute which stands for Mini-Mental State Examination score, ranging from 0 to 30. Lower scores indicate cognitive impairment.\n",
        "\n",
        "11- Forgetfulness: number attribute that acts as a boolean to specify whether the patiens has struggled with forgetfulness or not\n",
        "\n",
        "12- Diagnosis: the class label of our dataset where 0 indicates that the patient doesn't have an alzheimer diagnosis and 1 indicates otherwise\n",
        "\n"
      ],
      "metadata": {
        "id": "7S-vr41UhwCm"
      }
    }
  ]
}