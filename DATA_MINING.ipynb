{
  "nbformat": 4,
  "nbformat_minor": 0,
  "metadata": {
    "colab": {
      "provenance": [],
      "toc_visible": true
    },
    "kernelspec": {
      "name": "python3",
      "display_name": "Python 3"
    },
    "language_info": {
      "name": "python"
    }
  },
  "cells": [
    {
      "cell_type": "markdown",
      "source": [
        "#Dataset Description\n"
      ],
      "metadata": {
        "id": "ZV5rCdouhMF1"
      }
    },
    {
      "cell_type": "markdown",
      "source": [
        "Number of attributes: 13\n",
        "\n",
        "Class label: Diagnosis\n",
        "\n",
        "Age: integer attribute showing the age of the patient ranging from 60-90\n",
        "\n",
        "Gender: Shows the gender of the patient where 0 is a male and 1 is a female\n",
        "\n",
        "Ethnicity: integer number attribute where each number corresponds to a certain ethnicity\n",
        "-0 is Caucasian\n",
        "-1 African American\n",
        "-2 Asian\n",
        "-3 Other\n",
        "\n",
        "Education level: integer number attribute where each number corresponds to the education level of the patient\n",
        "-0 None\n",
        "-1 High School\n",
        "-2 Bachelor's\n",
        "-3 Higher\n",
        "\n",
        "BMI: Continuous number attribute which stands for Body Mass Index of the patients, ranging from 15-40\n",
        "\n",
        "Physical Activity: Continuous number atrribute that shows the Weekly physical activity in hours, ranging from 0-10\n",
        "\n",
        "Sleep Quality: Continuous number attribute that shows Sleep quality score, ranging from 4-10\n",
        "\n",
        "Family History: number attribute that acts as a boolean determining whether the patient's family has a history of alzheimer or not\n",
        "\n",
        "Cholesterol total: continuous number attribute showing total cholesterol levels, ranging from 150-300 mg\\Dl\n",
        "\n",
        "MMSE: continuous number attribute which stands for Mini-Mental State Examination score, ranging from 0 to 30. Lower scores indicate cognitive impairment.\n",
        "\n",
        "Forgetfulness: number attribute that acts as a boolean to specify whether the patiens has struggled with forgetfulness or not\n",
        "\n",
        "Diagnosis: the class label of our dataset where 0 indicates that the patient doesn't have an alzheimer diagnosis and 1 indicates otherwise\n",
        "\n"
      ],
      "metadata": {
        "id": "7S-vr41UhwCm"
      }
    }
  ]
}