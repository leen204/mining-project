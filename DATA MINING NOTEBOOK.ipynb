{
  "nbformat": 4,
  "nbformat_minor": 0,
  "metadata": {
    "colab": {
      "provenance": [],
      "include_colab_link": true
    },
    "kernelspec": {
      "name": "python3",
      "display_name": "Python 3"
    },
    "language_info": {
      "name": "python"
    }
  },
  "cells": [
    {
      "cell_type": "markdown",
      "metadata": {
        "id": "view-in-github",
        "colab_type": "text"
      },
      "source": [
        "<a href=\"https://colab.research.google.com/github/leen204/mining-project/blob/main/DATA%20MINING%20NOTEBOOK.ipynb\" target=\"_parent\"><img src=\"https://colab.research.google.com/assets/colab-badge.svg\" alt=\"Open In Colab\"/></a>"
      ]
    },
    {
      "cell_type": "markdown",
      "source": [
        "#Goal"
      ],
      "metadata": {
        "id": "pv-OcoBfqGi6"
      }
    },
    {
      "cell_type": "markdown",
      "source": [
        "\n",
        "Goal: The goal of this project is to analyze the dataset, identify significant risk factors, and develop predictive models to assist in the early detection and understanding of Alzheimer’s Disease.\n"
      ],
      "metadata": {
        "id": "4mTwmufUqy70"
      }
    },
    {
      "cell_type": "markdown",
      "source": [
        "#Source\n"
      ],
      "metadata": {
        "id": "v3HxWHb-qGN3"
      }
    },
    {
      "cell_type": "markdown",
      "source": [
        "https://www.kaggle.com/datasets/rabieelkharoua/alzheimers-disease-dataset"
      ],
      "metadata": {
        "id": "HrkuMgm6q-x4"
      }
    },
    {
      "cell_type": "markdown",
      "source": [
        "#Dataset information\n"
      ],
      "metadata": {
        "id": "ZV5rCdouhMF1"
      }
    },
    {
      "cell_type": "markdown",
      "source": [
        "In order to efficiently retrive the dataset's information we need to import it as follows:\n"
      ],
      "metadata": {
        "id": "7S-vr41UhwCm"
      }
    },
    {
      "cell_type": "code",
      "source": [
        "import pandas as pd\n",
        "df = pd.read_csv('alzheimers_disease_data.csv')\n",
        "df=df.drop(columns='DoctorInCharge') #This is a column with the same value for all objects so we removed it because it caused an error in the run"
      ],
      "metadata": {
        "id": "xzw1kxxw4oeh"
      },
      "execution_count": null,
      "outputs": []
    },
    {
      "cell_type": "markdown",
      "source": [
        "after that we can easily obtain the **Dataset Information:**\n",
        "\n",
        "Class label: Diagnosis"
      ],
      "metadata": {
        "id": "lkDouycr4-_6"
      }
    },
    {
      "cell_type": "code",
      "source": [
        "attribute_info = pd.DataFrame({\n",
        "    'NameOfAttribute' : df.columns,\n",
        "    'DataType' : df.dtypes.values\n",
        "})\n",
        "\n",
        "print(f\"Number of attributes: {len(df.columns)}\\n\")\n",
        "print(f\"Number of Objects: {len(df)}\\n\")\n",
        "print(f\"Attirbutes along with their types: \\n\")\n",
        "print(attribute_info)\n",
        "print('\\n')\n",
        "\n"
      ],
      "metadata": {
        "colab": {
          "base_uri": "https://localhost:8080/"
        },
        "id": "6T7aiO4g5Dtw",
        "outputId": "aa10b2f6-559d-42e9-f102-c0cbaa29a081"
      },
      "execution_count": null,
      "outputs": [
        {
          "output_type": "stream",
          "name": "stdout",
          "text": [
            "Number of attributes: 34\n",
            "\n",
            "Number of Objects: 2149\n",
            "\n",
            "Attirbutes along with their types: \n",
            "\n",
            "              NameOfAttribute DataType\n",
            "0                   PatientID    int64\n",
            "1                         Age    int64\n",
            "2                      Gender    int64\n",
            "3                   Ethnicity    int64\n",
            "4              EducationLevel    int64\n",
            "5                         BMI  float64\n",
            "6                     Smoking    int64\n",
            "7          AlcoholConsumption  float64\n",
            "8            PhysicalActivity  float64\n",
            "9                 DietQuality  float64\n",
            "10               SleepQuality  float64\n",
            "11    FamilyHistoryAlzheimers    int64\n",
            "12      CardiovascularDisease    int64\n",
            "13                   Diabetes    int64\n",
            "14                 Depression    int64\n",
            "15                 HeadInjury    int64\n",
            "16               Hypertension    int64\n",
            "17                 SystolicBP    int64\n",
            "18                DiastolicBP    int64\n",
            "19           CholesterolTotal  float64\n",
            "20             CholesterolLDL  float64\n",
            "21             CholesterolHDL  float64\n",
            "22   CholesterolTriglycerides  float64\n",
            "23                       MMSE  float64\n",
            "24       FunctionalAssessment  float64\n",
            "25           MemoryComplaints    int64\n",
            "26         BehavioralProblems    int64\n",
            "27                        ADL  float64\n",
            "28                  Confusion    int64\n",
            "29             Disorientation    int64\n",
            "30         PersonalityChanges    int64\n",
            "31  DifficultyCompletingTasks    int64\n",
            "32              Forgetfulness    int64\n",
            "33                  Diagnosis    int64\n",
            "\n",
            "\n"
          ]
        }
      ]
    },
    {
      "cell_type": "markdown",
      "source": [
        "#  sampling"
      ],
      "metadata": {
        "id": "ibHwJ2oVopaI"
      }
    },
    {
      "cell_type": "code",
      "source": [
        "import pandas as pd\n",
        "from sklearn.model_selection import train_test_split\n",
        "df = pd.read_csv('alzheimers_disease_data.csv')\n",
        "sample_size = 100  # sample size\n",
        "strat_sample, _ = train_test_split(df, test_size=(1 - sample_size / len(df)), stratify=df[\"Diagnosis\"], random_state=42)\n",
        "\n",
        "#Display the class distribution in the sample to verify\n",
        "print(\"Sample class distribution:\\n\", strat_sample[\"Diagnosis\"].value_counts(normalize=True) * 100)\n"
      ],
      "metadata": {
        "colab": {
          "base_uri": "https://localhost:8080/"
        },
        "id": "h43lFF0bes2s",
        "outputId": "c2f1cfb3-9499-4a70-c994-02773e22116e"
      },
      "execution_count": null,
      "outputs": [
        {
          "output_type": "stream",
          "name": "stdout",
          "text": [
            "Sample class distribution:\n",
            " Diagnosis\n",
            "0    65.0\n",
            "1    35.0\n",
            "Name: proportion, dtype: float64\n"
          ]
        }
      ]
    },
    {
      "cell_type": "markdown",
      "source": [],
      "metadata": {
        "id": "g7CtAkftokbw"
      }
    },
    {
      "cell_type": "markdown",
      "source": [
        "# show the Missing values"
      ],
      "metadata": {
        "id": "mYwioYK3cA1w"
      }
    },
    {
      "cell_type": "code",
      "source": [
        "\n",
        "missing_counts = df.isnull().sum()\n",
        "print(\"Missing values in each column:\")\n",
        "print(missing_counts)\n",
        "print()\n",
        "rows_with_missing = df.isnull().sum(axis=1)\n",
        "print(\"Rows with missing values:\")\n",
        "print(rows_with_missing);"
      ],
      "metadata": {
        "id": "CVtzft-vo1J-",
        "outputId": "393ad3d2-7272-484e-828d-36af1e432268",
        "colab": {
          "base_uri": "https://localhost:8080/"
        }
      },
      "execution_count": null,
      "outputs": [
        {
          "output_type": "stream",
          "name": "stdout",
          "text": [
            "Missing values in each column:\n",
            "PatientID                    0\n",
            "Age                          0\n",
            "Gender                       0\n",
            "Ethnicity                    0\n",
            "EducationLevel               0\n",
            "BMI                          0\n",
            "Smoking                      0\n",
            "AlcoholConsumption           0\n",
            "PhysicalActivity             0\n",
            "DietQuality                  0\n",
            "SleepQuality                 0\n",
            "FamilyHistoryAlzheimers      0\n",
            "CardiovascularDisease        0\n",
            "Diabetes                     0\n",
            "Depression                   0\n",
            "HeadInjury                   0\n",
            "Hypertension                 0\n",
            "SystolicBP                   0\n",
            "DiastolicBP                  0\n",
            "CholesterolTotal             0\n",
            "CholesterolLDL               0\n",
            "CholesterolHDL               0\n",
            "CholesterolTriglycerides     0\n",
            "MMSE                         0\n",
            "FunctionalAssessment         0\n",
            "MemoryComplaints             0\n",
            "BehavioralProblems           0\n",
            "ADL                          0\n",
            "Confusion                    0\n",
            "Disorientation               0\n",
            "PersonalityChanges           0\n",
            "DifficultyCompletingTasks    0\n",
            "Forgetfulness                0\n",
            "Diagnosis                    0\n",
            "DoctorInCharge               0\n",
            "dtype: int64\n",
            "\n",
            "Rows with missing values:\n",
            "0       0\n",
            "1       0\n",
            "2       0\n",
            "3       0\n",
            "4       0\n",
            "       ..\n",
            "2144    0\n",
            "2145    0\n",
            "2146    0\n",
            "2147    0\n",
            "2148    0\n",
            "Length: 2149, dtype: int64\n"
          ]
        }
      ]
    },
    {
      "cell_type": "markdown",
      "source": [
        "We notice that there are no missing values, and all columns are complete.\n",
        "\n"
      ],
      "metadata": {
        "id": "X4sBfMsLqhEE"
      }
    },
    {
      "cell_type": "markdown",
      "source": [
        "#*Summarization of the data using graphs before data pre-processing*"
      ],
      "metadata": {
        "id": "pzjxeOkSyYZb"
      }
    },
    {
      "cell_type": "code",
      "source": [
        "import matplotlib.pyplot as plt\n",
        "import pandas as pd\n",
        "df = pd.read_csv('alzheimers_disease_data.csv')\n",
        "\n",
        "diagnosis_labels = {0: \"No Alzheimer's\", 1: \"Alzheimer's\"}\n",
        "\n",
        "df['Diagnosis'] = df['Diagnosis'].map(diagnosis_labels)\n",
        "class_counts = df['Diagnosis'].value_counts()\n",
        "\n",
        "plt.figure(figsize=(6, 6))\n",
        "plt.pie(class_counts, labels=class_counts.index, autopct=\"%1.1f%%\", colors =  [\"#FFD3B5\", \"#FFAAA5\"]\n",
        " )\n",
        "plt.title('Class Distribution to Detect Class Imbalance')\n",
        "plt.show()"
      ],
      "metadata": {
        "id": "T9D_i51Gjuej",
        "outputId": "5eb65ca1-0a04-484e-c4b0-1817184a984e",
        "colab": {
          "base_uri": "https://localhost:8080/",
          "height": 521
        }
      },
      "execution_count": null,
      "outputs": [
        {
          "output_type": "display_data",
          "data": {
            "text/plain": [
              "<Figure size 600x600 with 1 Axes>"
            ],
            "image/png": "[encoded data removed]"
          },
          "metadata": {}
        }
      ]
    },
    {
      "cell_type": "markdown",
      "source": [
        "We used a pie chart to illustrate the percentage distribution of Alzheimer's diagnosis in the dataset, resulting in **64.6% No Alzheimer's** and **35.4% Alzheimer's**.\n",
        "\n",
        "and this is a slightly unstable data"
      ],
      "metadata": {
        "id": "NJmeMZNprarZ"
      }
    },
    {
      "cell_type": "code",
      "source": [
        "import pandas as pd\n",
        "import seaborn as sns\n",
        "import matplotlib.pyplot as plt\n",
        "df = pd.read_csv('alzheimers_disease_data.csv')\n",
        "sns.kdeplot(df['Age'], fill=True, color='skyblue', alpha=1)\n",
        "plt.title('Value Distribution of Age')\n",
        "plt.show()\n",
        "\n",
        "sns.countplot(x=df['Gender'])\n",
        "plt.title('Value Distribution of Gender')\n",
        "plt.show()"
      ],
      "metadata": {
        "id": "1excKvankq4f",
        "outputId": "6345974d-347a-4d94-9242-e7ea2b4e80d7",
        "colab": {
          "base_uri": "https://localhost:8080/",
          "height": 927
        }
      },
      "execution_count": null,
      "outputs": [
        {
          "output_type": "display_data",
          "data": {
            "text/plain": [
              "<Figure size 640x480 with 1 Axes>"
            ],
            "image/png": "[encoded data removed]"
          },
          "metadata": {}
        },
        {
          "output_type": "display_data",
          "data": {
            "text/plain": [
              "<Figure size 640x480 with 1 Axes>"
            ],
            "image/png": "[encoded data removed]"
          },
          "metadata": {}
        }
      ]
    },
    {
      "cell_type": "markdown",
      "source": [
        "The density plot illustrates how ages of individuals are distributed\n",
        "\n",
        "The bar chart shows the distribution of gender in dataset .\n",
        "0 = female , 1 = male"
      ],
      "metadata": {
        "id": "1A1XHa0Srgv5"
      }
    },
    {
      "cell_type": "code",
      "source": [
        "import matplotlib.pyplot as plt\n",
        "\n",
        "import seaborn as sns\n",
        "\n",
        "\n",
        "plt.figure(figsize=(6, 4))\n",
        "sns.boxplot(x='Diagnosis', y='Age', data=df)\n",
        "plt.title('box plot of age and diagnosis')\n",
        "plt.xlabel('diagnosis')\n",
        "plt.ylabel('Age')\n",
        "\n",
        "plt.show()"
      ],
      "metadata": {
        "id": "ilRN21l_kHHn",
        "outputId": "c35b3624-9389-407c-9dd9-c523f671c904",
        "colab": {
          "base_uri": "https://localhost:8080/",
          "height": 410
        }
      },
      "execution_count": null,
      "outputs": [
        {
          "output_type": "display_data",
          "data": {
            "text/plain": [
              "<Figure size 600x400 with 1 Axes>"
            ],
            "image/png": "[encoded data removed]"
          },
          "metadata": {}
        }
      ]
    },
    {
      "cell_type": "markdown",
      "source": [
        "The boxplot shows the distribution of age for individuals with and without Alzheimer’s, indicating that the majority of cases are within the age range of 70 to 80 years."
      ],
      "metadata": {
        "id": "P2dTjm1Tu-Gu"
      }
    },
    {
      "cell_type": "code",
      "source": [
        "import seaborn as sns\n",
        "import matplotlib.pyplot as plt\n",
        "\n",
        "\n",
        "plt.figure(figsize=(8, 6))\n",
        "sns.scatterplot(data=strat_sample, x='AlcoholConsumption', y='MMSE' , hue='EducationLevel', palette='Set2')\n",
        "\n",
        "\n",
        "plt.title('Scatter plot of MMSE vs Alcohol consumption')\n",
        "plt.xlabel('AlcoholConsumption ')\n",
        "plt.ylabel('MMSE ')\n",
        "plt.show()"
      ],
      "metadata": {
        "id": "pTk_FtcalGYs",
        "outputId": "d1705ab8-a861-4237-e091-5da1ab8f2725",
        "colab": {
          "base_uri": "https://localhost:8080/",
          "height": 564
        }
      },
      "execution_count": null,
      "outputs": [
        {
          "output_type": "display_data",
          "data": {
            "text/plain": [
              "<Figure size 800x600 with 1 Axes>"
            ],
            "image/png": "[encoded data removed]"
          },
          "metadata": {}
        }
      ]
    },
    {
      "cell_type": "markdown",
      "source": [
        "The scatter plot displays the relationship between MMSE scores and alcohol consumption across different education levels. The points are dispersed randomly without forming a clear pattern or trend, suggesting that there is no significant or direct correlation between alcohol consumption and cognitive performance. Additionally, the varying colors representing education levels do not show a noticeable clustering, indicating that education level does not have a straightforward impact on this relationship either."
      ],
      "metadata": {
        "id": "uo5eoNsytyrL"
      }
    },
    {
      "cell_type": "code",
      "source": [
        "import seaborn as sns\n",
        "df = pd.read_csv('alzheimers_disease_data.csv')\n",
        "\n",
        "smoking_labels = {0: \"Non-Smoker\", 1: \"Smoker\"}\n",
        "diagnosis_labels = {0: \"No Alzheimer's\", 1: \"Alzheimer's\"}\n",
        "\n",
        "df['Smoking'] = df['Smoking'].map(smoking_labels)\n",
        "df['Diagnosis'] = df['Diagnosis'].map(diagnosis_labels)\n",
        "\n",
        "plt.figure(figsize=(8,5))\n",
        "sns.countplot(x=df['Smoking'], hue=df['Diagnosis'], palette=\"pastel\")\n",
        "\n",
        "plt.xlabel(\"Smoking Status\", fontsize=12, fontweight='bold')\n",
        "plt.ylabel(\"Count\", fontsize=12, fontweight='bold')\n",
        "plt.title(\"Relationship Between Smoking and Alzheimer's\", fontsize=14, fontweight='bold')\n",
        "plt.legend(title=\"Diagnosis\")\n",
        "\n",
        "plt.show()"
      ],
      "metadata": {
        "id": "KLF4De1plxRf",
        "outputId": "681fc08c-f8ff-4bfa-e536-0ac782fbde59",
        "colab": {
          "base_uri": "https://localhost:8080/",
          "height": 492
        }
      },
      "execution_count": null,
      "outputs": [
        {
          "output_type": "display_data",
          "data": {
            "text/plain": [
              "<Figure size 800x500 with 1 Axes>"
            ],
            "image/png": "[encoded data removed]"
          },
          "metadata": {}
        }
      ]
    },
    {
      "cell_type": "markdown",
      "source": [
        "We used a bar chart to show the relationship between smoking and Alzheimer's. The results indicate that non-smokers are more common in both groups, but there are still many smokers among Alzheimer's patients.\n",
        "\n",
        "\n",
        "\n"
      ],
      "metadata": {
        "id": "9bSZbn0vsHAx"
      }
    },
    {
      "cell_type": "markdown",
      "source": [
        "# Show the Min., 1st Qu., Median, Mean ,3rd Qu.,Max., Mode. :"
      ],
      "metadata": {
        "id": "xYTpUgose_lM"
      }
    },
    {
      "cell_type": "markdown",
      "source": [
        "Using the summary_stats() function, we can derive key insights from the dataset. Based on these summary statistics, several important observations and mode values can be identified.\n",
        "\n",
        "**Age**: The ages span from 60 to 90 years, with a median of 75 years and a mean of 74.91 years. The mode is 73 years, indicating a focus on elderly individuals.\n",
        "\n",
        "**BMI**: BMI values range from 15.01 to 39.99, with a median of 27.82 and a mean of 27.65. The mode is 22.93, reflecting variability in weight, centered around the overweight category.\n",
        "\n",
        "**MMSE:** is a continuous variable, with a mean of 0.49, a median of 0.48, and a mode of 0.71, indicating variability in cognitive function among individuals.\n",
        "\n",
        "**SystolicBP**: Systolic blood pressure ranges from 90 to 179, with a median of 134 and a mean of 134.26. The mode is 142, indicating mostly normal to slightly elevated levels.\n",
        "\n",
        "**DiastolicBP**: Diastolic blood pressure ranges from 60 to 119, with a median of 91 and a mean of 89.85. The mode is 72, showing moderate variability.\n",
        "\n",
        "**Cholesterol** (Total, LDL, HDL): Total cholesterol (mean: 225.20, mode: 242.37), LDL (mean: 124.33, mode: 56.15), and HDL (mean: 59.46, mode: 33.68) indicate significant variability across individuals.\n",
        "\n",
        "**Hypertension**: Hypertension is a binary variable, with a mode of 0, meaning most individuals do not have hypertension.\n",
        "\n",
        "**Cardiovascular** Disease: The mode is 0, indicating most individuals do not have cardiovascular disease.\n",
        "\n",
        "**Diabetes**: The mode is 1, showing some individuals have diabetes, but it is not widespread.\n",
        "\n",
        "**Diagnosis**: The mode is 0, indicating most individuals have not been diagnosed positively."
      ],
      "metadata": {
        "id": "r2b1OFvGfDDn"
      }
    },
    {
      "cell_type": "code",
      "source": [
        "selected_columns = [\n",
        "    \"Age\", \"BMI\", \"SystolicBP\", \"DiastolicBP\", \"CholesterolTotal\",\n",
        "    \"CholesterolLDL\", \"CholesterolHDL\", \"Hypertension\",\"Gender\",\n",
        "    \"CardiovascularDisease\", \"Diabetes\", \"Diagnosis\",\"MMSE\"\n",
        "]\n",
        "summary_stats = df[selected_columns].describe()\n",
        "print(summary_stats)\n",
        "\n"
      ],
      "metadata": {
        "colab": {
          "base_uri": "https://localhost:8080/"
        },
        "id": "Z3CkDdA5fcvO",
        "outputId": "8e9e2cca-d4a4-44c2-a228-209042b37c48"
      },
      "execution_count": null,
      "outputs": [
        {
          "output_type": "stream",
          "name": "stdout",
          "text": [
            "               Age          BMI   SystolicBP  DiastolicBP  CholesterolTotal  \\\n",
            "count  2149.000000  2149.000000  2149.000000  2149.000000       2149.000000   \n",
            "mean     74.908795    27.655697   134.264774    89.847836        225.197519   \n",
            "std       8.990221     7.217438    25.949352    17.592496         42.542233   \n",
            "min      60.000000    15.008851    90.000000    60.000000        150.093316   \n",
            "25%      67.000000    21.611408   112.000000    74.000000        190.252963   \n",
            "50%      75.000000    27.823924   134.000000    91.000000        225.086430   \n",
            "75%      83.000000    33.869778   157.000000   105.000000        262.031657   \n",
            "max      90.000000    39.992767   179.000000   119.000000        299.993352   \n",
            "\n",
            "       CholesterolLDL  CholesterolHDL  Hypertension       Gender  \\\n",
            "count     2149.000000     2149.000000   2149.000000  2149.000000   \n",
            "mean       124.335944       59.463533      0.148906     0.506282   \n",
            "std         43.366584       23.139174      0.356079     0.500077   \n",
            "min         50.230707       20.003434      0.000000     0.000000   \n",
            "25%         87.195798       39.095698      0.000000     0.000000   \n",
            "50%        123.342593       59.768237      0.000000     1.000000   \n",
            "75%        161.733733       78.939050      0.000000     1.000000   \n",
            "max        199.965665       99.980324      1.000000     1.000000   \n",
            "\n",
            "       CardiovascularDisease     Diabetes    Diagnosis         MMSE  \n",
            "count            2149.000000  2149.000000  2149.000000  2149.000000  \n",
            "mean                0.144253     0.150768     0.353653    14.755132  \n",
            "std                 0.351428     0.357906     0.478214     8.613151  \n",
            "min                 0.000000     0.000000     0.000000     0.005312  \n",
            "25%                 0.000000     0.000000     0.000000     7.167602  \n",
            "50%                 0.000000     0.000000     0.000000    14.441660  \n",
            "75%                 0.000000     0.000000     1.000000    22.161028  \n",
            "max                 1.000000     1.000000     1.000000    29.991381  \n"
          ]
        }
      ]
    },
    {
      "cell_type": "code",
      "source": [
        "mode_values = df[selected_columns].iloc[0]\n",
        "print(mode_values)"
      ],
      "metadata": {
        "id": "tORTlClNn-ls",
        "outputId": "3a55f52d-c3ad-4610-d2ee-65f767ebb39e",
        "colab": {
          "base_uri": "https://localhost:8080/"
        }
      },
      "execution_count": null,
      "outputs": [
        {
          "output_type": "stream",
          "name": "stdout",
          "text": [
            "Age                       73.000000\n",
            "BMI                       22.927749\n",
            "SystolicBP               142.000000\n",
            "DiastolicBP               72.000000\n",
            "CholesterolTotal         242.366840\n",
            "CholesterolLDL            56.150897\n",
            "CholesterolHDL            33.682563\n",
            "Hypertension               0.000000\n",
            "Gender                     0.000000\n",
            "CardiovascularDisease      0.000000\n",
            "Diabetes                   1.000000\n",
            "Diagnosis                  0.000000\n",
            "MMSE                      21.463532\n",
            "Name: 0, dtype: float64\n"
          ]
        }
      ]
    },
    {
      "cell_type": "markdown",
      "source": [
        "\n",
        "# Show the Variance:"
      ],
      "metadata": {
        "id": "9BLUq3z2gWIr"
      }
    },
    {
      "cell_type": "markdown",
      "source": [
        "Variance measures how spread out values are. A higher variance means more dispersion, while a lower variance means values are closer to the mean. Therefore, our variance results indicate:\n",
        "\n",
        "**SystolicBP, CholesterolTotal, and CholesterolLDL:**\n",
        "These columns have a high variance with values (673.37, 1809.84, 1880.66) respectively. This indicates a significant level of dispersion, reflecting a wide spread in blood pressure and cholesterol levels.\n",
        "\n",
        "**Age , BMI, DiastolicBP, CholesterolHDL,Gender,and MMSE:**  These columns exhibit a moderate level of variance with values (80.82, 52.09, 309.50, 535.42, 0.25, and 0.08) respectively. This suggests a noticeable spread in age, BMI, and blood pressure, but not as extreme as the previous group. The variance in Gender (0.25) indicates a nearly equal distribution of males and females, ensuring a fair representation in gender-based analysis\n",
        "\n",
        "**Hypertension, CardiovascularDisease, Diabetes, and Diagnosis:**\n",
        "These columns have low variance with values (0.13, 0.12, 0.13, and 0.23) respectively. This indicates that most  individuals have similar values in these categories, reflecting limited variability in the dataset."
      ],
      "metadata": {
        "id": "0uC3hsWegeJN"
      }
    },
    {
      "cell_type": "code",
      "source": [
        "variance=df[selected_columns].var(numeric_only=True)\n",
        "print(variance)"
      ],
      "metadata": {
        "colab": {
          "base_uri": "https://localhost:8080/"
        },
        "id": "WymQwBuOgjcq",
        "outputId": "52bf34cb-3537-49d0-a380-c1a8cc263598"
      },
      "execution_count": null,
      "outputs": [
        {
          "output_type": "stream",
          "name": "stdout",
          "text": [
            "Age                        80.824080\n",
            "BMI                        52.091413\n",
            "SystolicBP                673.368875\n",
            "DiastolicBP               309.495923\n",
            "CholesterolTotal         1809.841576\n",
            "CholesterolLDL           1880.660612\n",
            "CholesterolHDL            535.421368\n",
            "Hypertension                0.126792\n",
            "Gender                      0.250077\n",
            "CardiovascularDisease       0.123502\n",
            "Diabetes                    0.128096\n",
            "Diagnosis                   0.228689\n",
            "MMSE                       74.186375\n",
            "dtype: float64\n"
          ]
        }
      ]
    },
    {
      "cell_type": "markdown",
      "source": [
        "# Data Preprocessing:\n",
        "\n",
        "1. Variable Transformation:\n",
        "\n",
        "Discretization:\n",
        "We have noticed that the age column values go from 60 To 90 so we decided to devide these values to fit into the following 5 intervals (ensuring an equal difference between all intervals) : (60-66) (67-72) (73-78) (79-84) (85-90)\n",
        "\n",
        "\n",
        "\n"
      ],
      "metadata": {
        "id": "R9msUPRyMMv_"
      }
    },
    {
      "cell_type": "code",
      "source": [
        "#Specifying the column to discretisize\n",
        "column_to_discretize = 'Age'\n",
        "num_of_intervals = 5\n",
        "labels = [\"60-66\", \"67-72\", \"73-78\", \"79-84\", \"85-90\"]\n",
        "#preprocessed_df = df.copy()\n",
        "\n",
        "#Discretization Process\n",
        "df[column_to_discretize] = pd.cut(df[column_to_discretize], bins=num_of_intervals, labels=False)\n",
        "\n",
        "print(df[column_to_discretize])"
      ],
      "metadata": {
        "id": "kxZrcE3DCZYH",
        "outputId": "7c455226-cdba-4708-9cba-d20f53733e45",
        "colab": {
          "base_uri": "https://localhost:8080/"
        }
      },
      "execution_count": null,
      "outputs": [
        {
          "output_type": "stream",
          "name": "stdout",
          "text": [
            "0       2\n",
            "1       4\n",
            "2       2\n",
            "3       2\n",
            "4       4\n",
            "       ..\n",
            "2144    0\n",
            "2145    2\n",
            "2146    2\n",
            "2147    2\n",
            "2148    1\n",
            "Name: Age, Length: 2149, dtype: int64\n"
          ]
        }
      ]
    },
    {
      "cell_type": "markdown",
      "source": [
        "2. Noramlization\n",
        "After looking at our dataset we've noticed that we have many unormalized columns with values that vary in range so in order to give all our values equal weight and make this easier to work with we've decided to normalize the following columns using the MinMaxScaler\n",
        "BMI - Alcohol consumption - Physical Activity - Diet Quality - Sleep Quality - SystolicBP - CholesterolTotal- CholesterolLDL - CholesterolHDL - CholesterolTriglycerides - MMSE - FunctionalAssessment - ADL"
      ],
      "metadata": {
        "id": "GRbj8qtTCp7N"
      }
    },
    {
      "cell_type": "code",
      "source": [
        "from sklearn.preprocessing import MinMaxScaler\n",
        "\n",
        "#Specifying scaler + Columns\n",
        "columns_to_normalize = ['BMI', 'AlcoholConsumption', 'PhysicalActivity', 'DietQuality', 'SleepQuality', 'SystolicBP', 'CholesterolTotal', 'CholesterolLDL', 'CholesterolHDL', 'CholesterolTriglycerides', 'MMSE', 'FunctionalAssessment', 'ADL']\n",
        "scaler = MinMaxScaler()\n",
        "\n",
        "#Normalization Process\n",
        "df[columns_to_normalize] = scaler.fit_transform(df[columns_to_normalize])\n",
        "\n",
        "#print(df[columns_to_normalize])\n",
        "print(df[columns_to_normalize])"
      ],
      "metadata": {
        "id": "MkOGDR-bCziu",
        "outputId": "15164482-308c-46d7-84c4-7d5ad258b9ec",
        "colab": {
          "base_uri": "https://localhost:8080/"
        }
      },
      "execution_count": null,
      "outputs": [
        {
          "output_type": "stream",
          "name": "stdout",
          "text": [
            "           BMI  AlcoholConsumption  PhysicalActivity  DietQuality  \\\n",
            "0     0.316960            0.665183          0.633375     0.133931   \n",
            "1     0.473058            0.227170          0.762862     0.050995   \n",
            "2     0.111553            0.978276          0.785408     0.181896   \n",
            "3     0.752163            0.610751          0.843804     0.743443   \n",
            "4     0.228472            0.923204          0.631707     0.078698   \n",
            "...        ...                 ...               ...          ...   \n",
            "2144  0.965137            0.078006          0.405291     0.655316   \n",
            "2145  0.114035            0.938860          0.135925     0.289848   \n",
            "2146  0.018717            0.229779          0.989841     0.811960   \n",
            "2147  0.011650            0.433901          0.636096     0.125543   \n",
            "2148  0.731706            0.394686          0.657802     0.794079   \n",
            "\n",
            "      SleepQuality  SystolicBP  CholesterolTotal  CholesterolLDL  \\\n",
            "0         0.837564    0.584270          0.615567        0.039538   \n",
            "1         0.525021    0.280899          0.540822        0.956205   \n",
            "2         0.945597    0.101124          0.894520        0.688497   \n",
            "3         0.731994    0.314607          0.063302        0.101085   \n",
            "4         0.265892    0.044944          0.583781        0.284763   \n",
            "...            ...         ...               ...             ...   \n",
            "2144      0.589092    0.359551          0.869803        0.298125   \n",
            "2145      0.759124    0.696629          0.242102        0.301733   \n",
            "2146      0.294609    0.280899          0.579928        0.708162   \n",
            "2147      0.720376    0.146067          0.614435        0.015042   \n",
            "2148      0.979802    0.853933          0.889283        0.280291   \n",
            "\n",
            "      CholesterolHDL  CholesterolTriglycerides      MMSE  \\\n",
            "0           0.171039                  0.319802  0.715606   \n",
            "1           0.738026                  0.698711  0.687251   \n",
            "2           0.622290                  0.095072  0.245145   \n",
            "3           0.605851                  0.649922  0.466410   \n",
            "4           0.461019                  0.688892  0.450619   \n",
            "...              ...                       ...       ...   \n",
            "2144        0.511894                  0.526737  0.039881   \n",
            "2145        0.920845                  0.908578  0.215192   \n",
            "2146        0.996222                  0.699201  0.567120   \n",
            "2147        0.766192                  0.271351  0.134235   \n",
            "2148        0.774181                  0.477749  0.370488   \n",
            "\n",
            "      FunctionalAssessment       ADL  \n",
            "0                 0.652102  0.172486  \n",
            "1                 0.712108  0.259154  \n",
            "2                 0.589697  0.711936  \n",
            "3                 0.896823  0.648094  \n",
            "4                 0.604699  0.001341  \n",
            "...                    ...       ...  \n",
            "2144              0.023830  0.449224  \n",
            "2145              0.869049  0.920508  \n",
            "2146              0.197246  0.503582  \n",
            "2147              0.517550  0.378469  \n",
            "2148              0.630960  0.832756  \n",
            "\n",
            "[2149 rows x 13 columns]\n"
          ]
        }
      ]
    },
    {
      "cell_type": "markdown",
      "source": [
        "3. Removing highly correlated columns:\n",
        "In this step we will detect highly correlated columns and remove them"
      ],
      "metadata": {
        "id": "H8n6hvGlC9TH"
      }
    },
    {
      "cell_type": "code",
      "source": [
        "import numpy as np\n",
        "\n",
        "# Calculate correlation matrix\n",
        "correlation_matrix = df.corr(numeric_only=True).abs()\n",
        "\n",
        "# Set correlation threshold\n",
        "correlation_threshold = 0.75\n",
        "\n",
        "# Find upper triangle (to avoid duplicate pairs)\n",
        "upper_tri = correlation_matrix.where(np.triu(np.ones(correlation_matrix.shape), k=1).astype(bool))\n",
        "\n",
        "# Identify columns to remove\n",
        "to_remove = [column for column in upper_tri.columns if any(upper_tri[column] >= 0.75)]\n",
        "\n",
        "# Print columns to be removed\n",
        "print(\"Columns to be removed due to high correlation:\", len(to_remove))"
      ],
      "metadata": {
        "id": "6nwuGEn5C-rz",
        "outputId": "4b208db1-2655-49aa-aecf-ae3d2d4fa351",
        "colab": {
          "base_uri": "https://localhost:8080/"
        }
      },
      "execution_count": null,
      "outputs": [
        {
          "output_type": "stream",
          "name": "stdout",
          "text": [
            "Columns to be removed due to high correlation: 0\n"
          ]
        }
      ]
    },
    {
      "cell_type": "markdown",
      "source": [
        "4- Removing noise\n",
        "\n",
        "\n",
        "as part pf data preprocessing we have to check for outliers and handle them.\n",
        "\n",
        "- detecting outliers using Z-score method"
      ],
      "metadata": {
        "id": "FmV-n2QwIh6M"
      }
    },
    {
      "cell_type": "code",
      "source": [
        "from scipy.stats import zscore\n",
        "#columns to check for outliers\n",
        "column_to_detect_outliers=['Age','BMI', 'AlcoholConsumption', 'PhysicalActivity', 'DietQuality', 'SleepQuality', 'SystolicBP', 'CholesterolTotal', 'CholesterolLDL', 'CholesterolHDL', 'CholesterolTriglycerides', 'MMSE', 'FunctionalAssessment', 'ADL']\n",
        "\n",
        "#compute the Z-score for each value int the selected columns\n",
        "z_scores= df[column_to_detect_outliers].apply(zscore)\n",
        "\n",
        "#set the treshold\n",
        "threshold=2\n",
        "\n",
        "#select the rows that have outliers\n",
        "outliers=df[(abs(z_scores)>threshold).any(axis=1)]\n",
        "\n",
        "#print the outliers\n",
        "print(\"The outliers for the dataset:\",outliers)\n"
      ],
      "metadata": {
        "id": "antTKqLNIld8",
        "outputId": "f877e867-9f85-4e88-c549-57897e385ed9",
        "colab": {
          "base_uri": "https://localhost:8080/"
        }
      },
      "execution_count": null,
      "outputs": [
        {
          "output_type": "stream",
          "name": "stdout",
          "text": [
            "The outliers for the dataset: Empty DataFrame\n",
            "Columns: [PatientID, Age, Gender, Ethnicity, EducationLevel, BMI, Smoking, AlcoholConsumption, PhysicalActivity, DietQuality, SleepQuality, FamilyHistoryAlzheimers, CardiovascularDisease, Diabetes, Depression, HeadInjury, Hypertension, SystolicBP, DiastolicBP, CholesterolTotal, CholesterolLDL, CholesterolHDL, CholesterolTriglycerides, MMSE, FunctionalAssessment, MemoryComplaints, BehavioralProblems, ADL, Confusion, Disorientation, PersonalityChanges, DifficultyCompletingTasks, Forgetfulness, Diagnosis]\n",
            "Index: []\n",
            "\n",
            "[0 rows x 34 columns]\n"
          ]
        }
      ]
    },
    {
      "cell_type": "markdown",
      "source": [
        "Results Description:\n",
        "\n",
        "No detected outliers"
      ],
      "metadata": {
        "id": "kc5T38Xa8rnN"
      }
    },
    {
      "cell_type": "markdown",
      "source": [
        "- Detecy outliers using IQR method"
      ],
      "metadata": {
        "id": "rytHDida5X83"
      }
    },
    {
      "cell_type": "code",
      "source": [
        "import pandas as pd\n",
        "\n",
        "#columns to check for outliers\n",
        "columns_to_check = ['Age','BMI', 'AlcoholConsumption', 'PhysicalActivity', 'DietQuality', 'SleepQuality',\n",
        "                    'SystolicBP', 'CholesterolTotal', 'CholesterolLDL', 'CholesterolHDL',\n",
        "                    'CholesterolTriglycerides', 'MMSE', 'FunctionalAssessment', 'ADL']\n",
        "\n",
        "# calculate Q1,Q3 for each column\n",
        "Q1 = df[columns_to_check].quantile(0.25)\n",
        "Q3 = df[columns_to_check].quantile(0.75)\n",
        "IQR = Q3 - Q1\n",
        "\n",
        "# extract outliers\n",
        "outliers = df[((df[columns_to_check] < (Q1 - 1.5 * IQR)) |\n",
        "               (df[columns_to_check] > (Q3 + 1.5 * IQR))).any(axis=1)]\n",
        "\n",
        "#print outliers\n",
        "print(f\"outliers using IQR: {len(outliers)}\")\n",
        "print(outliers)\n"
      ],
      "metadata": {
        "id": "TY6Bch5E5XEO",
        "outputId": "b66835f0-1f11-48b3-dfc6-157709da3240",
        "colab": {
          "base_uri": "https://localhost:8080/"
        }
      },
      "execution_count": null,
      "outputs": [
        {
          "output_type": "stream",
          "name": "stdout",
          "text": [
            "outliers using IQR: 0\n",
            "Empty DataFrame\n",
            "Columns: [PatientID, Age, Gender, Ethnicity, EducationLevel, BMI, Smoking, AlcoholConsumption, PhysicalActivity, DietQuality, SleepQuality, FamilyHistoryAlzheimers, CardiovascularDisease, Diabetes, Depression, HeadInjury, Hypertension, SystolicBP, DiastolicBP, CholesterolTotal, CholesterolLDL, CholesterolHDL, CholesterolTriglycerides, MMSE, FunctionalAssessment, MemoryComplaints, BehavioralProblems, ADL, Confusion, Disorientation, PersonalityChanges, DifficultyCompletingTasks, Forgetfulness, Diagnosis]\n",
            "Index: []\n",
            "\n",
            "[0 rows x 34 columns]\n"
          ]
        }
      ]
    },
    {
      "cell_type": "markdown",
      "source": [
        "Results Description:\n",
        "\n",
        "No detected outliers"
      ],
      "metadata": {
        "id": "Ju3yDs9V8y0I"
      }
    },
    {
      "cell_type": "markdown",
      "source": [
        "5. Feature Selection:\n",
        "Now that we have fully preprocessed our data to have a clean version of the dataset, we can start working on the feature selection process, which chooses the best features to be used in the model building process. we used the wrapper method in order to get the best result. we faced some issues where it reached the max number of iterations without determining the features, but we fixed that by maxing the iterations."
      ],
      "metadata": {
        "id": "eJpd2StDDNhJ"
      }
    },
    {
      "cell_type": "code",
      "source": [
        "#feature selection\n",
        "from sklearn.linear_model import LogisticRegression\n",
        "from sklearn.feature_selection import RFE\n",
        "\n",
        "\n",
        "model = LogisticRegression(solver='liblinear', max_iter=5000)\n",
        "rfe = RFE(model, n_features_to_select=8)\n",
        "X = df.drop('Diagnosis', axis=1)\n",
        "y = df['Diagnosis']\n",
        "fit = rfe.fit(X, y)\n",
        "\n",
        "feature_label= X.columns[fit.support_].tolist()\n",
        "selected_features = [i for i, mask in enumerate(rfe.support_) if mask]\n",
        "\n",
        "print(\"Index of the best features\", selected_features)\n",
        "print(\"Title of features to choose\", feature_label)\n"
      ],
      "metadata": {
        "id": "W58UB9ldDQ31",
        "outputId": "b860e484-7a2f-4c9d-86d5-6308e67ab6ad",
        "colab": {
          "base_uri": "https://localhost:8080/"
        }
      },
      "execution_count": null,
      "outputs": [
        {
          "output_type": "stream",
          "name": "stdout",
          "text": [
            "Index of the best features [6, 15, 16, 24, 25, 26, 27, 28]\n",
            "Title of features to choose ['Smoking', 'HeadInjury', 'Hypertension', 'FunctionalAssessment', 'MemoryComplaints', 'BehavioralProblems', 'ADL', 'Confusion']\n"
          ]
        }
      ]
    }
  ]
}