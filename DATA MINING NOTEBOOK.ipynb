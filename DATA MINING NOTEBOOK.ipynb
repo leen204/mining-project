{
  "nbformat": 4,
  "nbformat_minor": 0,
  "metadata": {
    "colab": {
      "provenance": [],
      "toc_visible": true,
      "include_colab_link": true
    },
    "kernelspec": {
      "name": "python3",
      "display_name": "Python 3"
    },
    "language_info": {
      "name": "python"
    }
  },
  "cells": [
    {
      "cell_type": "markdown",
      "metadata": {
        "id": "view-in-github",
        "colab_type": "text"
      },
      "source": [
        "<a href=\"https://colab.research.google.com/github/leen204/mining-project/blob/main/DATA%20MINING%20NOTEBOOK.ipynb\" target=\"_parent\"><img src=\"https://colab.research.google.com/assets/colab-badge.svg\" alt=\"Open In Colab\"/></a>"
      ]
    },
    {
      "cell_type": "markdown",
      "source": [
        "#Goal"
      ],
      "metadata": {
        "id": "pv-OcoBfqGi6"
      }
    },
    {
      "cell_type": "markdown",
      "source": [
        "\n",
        "Goal: The goal of this project is to analyze the dataset, identify significant risk factors, and develop predictive models to assist in the early detection and understanding of Alzheimer’s Disease.\n"
      ],
      "metadata": {
        "id": "4mTwmufUqy70"
      }
    },
    {
      "cell_type": "markdown",
      "source": [
        "#Source\n"
      ],
      "metadata": {
        "id": "v3HxWHb-qGN3"
      }
    },
    {
      "cell_type": "markdown",
      "source": [
        "https://www.kaggle.com/datasets/rabieelkharoua/alzheimers-disease-dataset"
      ],
      "metadata": {
        "id": "HrkuMgm6q-x4"
      }
    },
    {
      "cell_type": "markdown",
      "source": [
        "#Dataset information\n"
      ],
      "metadata": {
        "id": "ZV5rCdouhMF1"
      }
    },
    {
      "cell_type": "markdown",
      "source": [
        "In order to efficiently retrive the dataset's information we need to import it as follows:\n"
      ],
      "metadata": {
        "id": "7S-vr41UhwCm"
      }
    },
    {
      "cell_type": "code",
      "source": [
        "import pandas as pd\n",
        "df = pd.read_csv('alzheimers_disease_data.csv')"
      ],
      "metadata": {
        "id": "xzw1kxxw4oeh"
      },
      "execution_count": null,
      "outputs": []
    },
    {
      "cell_type": "markdown",
      "source": [
        "after that we can easily obtain the **Dataset Information:**\n",
        "\n",
        "Class label: Diagnosis"
      ],
      "metadata": {
        "id": "lkDouycr4-_6"
      }
    },
    {
      "cell_type": "code",
      "source": [
        "attribute_info = pd.DataFrame({\n",
        "    'NameOfAttribute' : df.columns,\n",
        "    'DataType' : df.dtypes.values\n",
        "})\n",
        "\n",
        "print(f\"Number of attributes: {len(df.columns)}\\n\")\n",
        "print(f\"Number of Objects: {len(df)}\\n\")\n",
        "print(f\"Attirbutes along with their types: \\n\")\n",
        "print(attribute_info)\n",
        "print('\\n')\n",
        "\n"
      ],
      "metadata": {
        "colab": {
          "base_uri": "https://localhost:8080/"
        },
        "id": "6T7aiO4g5Dtw",
        "outputId": "15a97656-2d0f-479b-8101-5ccc6511e095"
      },
      "execution_count": null,
      "outputs": [
        {
          "output_type": "stream",
          "name": "stdout",
          "text": [
            "Number of attributes: 35\n",
            "\n",
            "Number of Objects: 2149\n",
            "\n",
            "Attirbutes along with their types: \n",
            "\n",
            "              NameOfAttribute DataType\n",
            "0                   PatientID    int64\n",
            "1                         Age    int64\n",
            "2                      Gender    int64\n",
            "3                   Ethnicity    int64\n",
            "4              EducationLevel    int64\n",
            "5                         BMI  float64\n",
            "6                     Smoking    int64\n",
            "7          AlcoholConsumption  float64\n",
            "8            PhysicalActivity  float64\n",
            "9                 DietQuality  float64\n",
            "10               SleepQuality  float64\n",
            "11    FamilyHistoryAlzheimers    int64\n",
            "12      CardiovascularDisease    int64\n",
            "13                   Diabetes    int64\n",
            "14                 Depression    int64\n",
            "15                 HeadInjury    int64\n",
            "16               Hypertension    int64\n",
            "17                 SystolicBP    int64\n",
            "18                DiastolicBP    int64\n",
            "19           CholesterolTotal  float64\n",
            "20             CholesterolLDL  float64\n",
            "21             CholesterolHDL  float64\n",
            "22   CholesterolTriglycerides  float64\n",
            "23                       MMSE  float64\n",
            "24       FunctionalAssessment  float64\n",
            "25           MemoryComplaints    int64\n",
            "26         BehavioralProblems    int64\n",
            "27                        ADL  float64\n",
            "28                  Confusion    int64\n",
            "29             Disorientation    int64\n",
            "30         PersonalityChanges    int64\n",
            "31  DifficultyCompletingTasks    int64\n",
            "32              Forgetfulness    int64\n",
            "33                  Diagnosis    int64\n",
            "34             DoctorInCharge   object\n",
            "\n",
            "\n"
          ]
        }
      ]
    },
    {
      "cell_type": "markdown",
      "source": [
        "# sampling:"
      ],
      "metadata": {
        "id": "mYwioYK3cA1w"
      }
    },
    {
      "cell_type": "code",
      "source": [
        "import pandas as pd\n",
        "from sklearn.model_selection import train_test_split\n",
        "df = pd.read_csv('alzheimers_disease_data.csv')\n",
        "sample_size = 100  # sample size\n",
        "strat_sample, _ = train_test_split(df, test_size=(1 - sample_size / len(df)), stratify=df[\"Diagnosis\"], random_state=42)\n",
        "\n",
        "#Display the class distribution in the sample to verify\n",
        "print(\"Sample class distribution:\\n\", strat_sample[\"Diagnosis\"].value_counts(normalize=True) * 100)\n"
      ],
      "metadata": {
        "id": "h43lFF0bes2s",
        "outputId": "8831d3e6-e198-4cc3-9519-4ad8a3e086f0",
        "colab": {
          "base_uri": "https://localhost:8080/"
        }
      },
      "execution_count": 2,
      "outputs": [
        {
          "output_type": "stream",
          "name": "stdout",
          "text": [
            "Sample class distribution:\n",
            " Diagnosis\n",
            "0    65.0\n",
            "1    35.0\n",
            "Name: proportion, dtype: float64\n"
          ]
        }
      ]
    },
    {
      "cell_type": "markdown",
      "source": [
        "# Show the Min., 1st Qu., Median, Mean ,3rd Qu.,Max., Mode. :"
      ],
      "metadata": {
        "id": "xYTpUgose_lM"
      }
    },
    {
      "cell_type": "markdown",
      "source": [
        "Using the summary_stats() function, we can derive key insights from the dataset. Based on these summary statistics, several important observations and mode values can be identified.\n",
        "\n",
        "**Age**: The ages span from 60 to 90 years, with a median of 75 years and a mean of 74.91 years. The mode is 73 years, indicating a focus on elderly individuals.\n",
        "\n",
        "**BMI**: BMI values range from 15.01 to 39.99, with a median of 27.82 and a mean of 27.65. The mode is 22.93, reflecting variability in weight, centered around the overweight category.\n",
        "\n",
        "**SystolicBP**: Systolic blood pressure ranges from 90 to 179, with a median of 134 and a mean of 134.26. The mode is 142, indicating mostly normal to slightly elevated levels.\n",
        "\n",
        "**DiastolicBP**: Diastolic blood pressure ranges from 60 to 119, with a median of 91 and a mean of 89.85. The mode is 72, showing moderate variability.\n",
        "\n",
        "**Cholesterol** (Total, LDL, HDL): Total cholesterol (mean: 225.20, mode: 242.37), LDL (mean: 124.33, mode: 56.15), and HDL (mean: 59.46, mode: 33.68) indicate significant variability across individuals.\n",
        "\n",
        "**Hypertension**: Hypertension is a binary variable, with a mode of 0, meaning most individuals do not have hypertension.\n",
        "\n",
        "**Cardiovascular** Disease: The mode is 0, indicating most individuals do not have cardiovascular disease.\n",
        "\n",
        "**Diabetes**: The mode is 1, showing some individuals have diabetes, but it is not widespread.\n",
        "\n",
        "**Diagnosis**: The mode is 0, indicating most individuals have not been diagnosed positively."
      ],
      "metadata": {
        "id": "r2b1OFvGfDDn"
      }
    },
    {
      "cell_type": "code",
      "source": [
        "selected_columns = [\n",
        "    \"Age\", \"BMI\", \"SystolicBP\", \"DiastolicBP\", \"CholesterolTotal\",\n",
        "    \"CholesterolLDL\", \"CholesterolHDL\", \"Hypertension\",\"Gender\",\n",
        "    \"CardiovascularDisease\", \"Diabetes\", \"Diagnosis\"\n",
        "]\n",
        "summary_stats = df[selected_columns].describe()\n",
        "print(summary_stats)\n",
        "\n"
      ],
      "metadata": {
        "id": "Z3CkDdA5fcvO",
        "outputId": "afdb2cb3-f9c7-4e0d-e56a-c50dce8aca41",
        "colab": {
          "base_uri": "https://localhost:8080/"
        }
      },
      "execution_count": 3,
      "outputs": [
        {
          "output_type": "stream",
          "name": "stdout",
          "text": [
            "               Age          BMI   SystolicBP  DiastolicBP  CholesterolTotal  \\\n",
            "count  2149.000000  2149.000000  2149.000000  2149.000000       2149.000000   \n",
            "mean     74.908795    27.655697   134.264774    89.847836        225.197519   \n",
            "std       8.990221     7.217438    25.949352    17.592496         42.542233   \n",
            "min      60.000000    15.008851    90.000000    60.000000        150.093316   \n",
            "25%      67.000000    21.611408   112.000000    74.000000        190.252963   \n",
            "50%      75.000000    27.823924   134.000000    91.000000        225.086430   \n",
            "75%      83.000000    33.869778   157.000000   105.000000        262.031657   \n",
            "max      90.000000    39.992767   179.000000   119.000000        299.993353   \n",
            "\n",
            "       CholesterolLDL  CholesterolHDL  Hypertension       Gender  \\\n",
            "count     2149.000000     2149.000000   2149.000000  2149.000000   \n",
            "mean       124.335944       59.463533      0.148906     0.506282   \n",
            "std         43.366584       23.139174      0.356079     0.500077   \n",
            "min         50.230707       20.003434      0.000000     0.000000   \n",
            "25%         87.195798       39.095698      0.000000     0.000000   \n",
            "50%        123.342593       59.768237      0.000000     1.000000   \n",
            "75%        161.733733       78.939050      0.000000     1.000000   \n",
            "max        199.965665       99.980324      1.000000     1.000000   \n",
            "\n",
            "       CardiovascularDisease     Diabetes    Diagnosis  \n",
            "count            2149.000000  2149.000000  2149.000000  \n",
            "mean                0.144253     0.150768     0.353653  \n",
            "std                 0.351428     0.357906     0.478214  \n",
            "min                 0.000000     0.000000     0.000000  \n",
            "25%                 0.000000     0.000000     0.000000  \n",
            "50%                 0.000000     0.000000     0.000000  \n",
            "75%                 0.000000     0.000000     1.000000  \n",
            "max                 1.000000     1.000000     1.000000  \n"
          ]
        }
      ]
    },
    {
      "cell_type": "markdown",
      "source": [
        "\n",
        "# Show the Variance:"
      ],
      "metadata": {
        "id": "9BLUq3z2gWIr"
      }
    },
    {
      "cell_type": "markdown",
      "source": [
        "Variance measures how spread out values are. A higher variance means more dispersion, while a lower variance means values are closer to the mean. Therefore, our variance results indicate:\n",
        "\n",
        "**SystolicBP, CholesterolTotal, and CholesterolLDL:**\n",
        "These columns have a high variance with values (673.37, 1809.84, 1880.66) respectively. This indicates a significant level of dispersion, reflecting a wide spread in blood pressure and cholesterol levels.\n",
        "\n",
        "**Age, BMI, DiastolicBP, CholesterolHDL, and Gender:** These columns exhibit a moderate level of variance with values (80.82, 52.09, 309.50, 535.42, and 0.25) respectively. This suggests a noticeable spread in age, BMI, and blood pressure, but not as extreme as the previous group. The variance in Gender indicates a nearly balanced distribution of males and females in the dataset, ensuring a fair representation for gender-based analysis..\n",
        "\n",
        "**Hypertension, CardiovascularDisease, Diabetes, and Diagnosis:**\n",
        "These columns have low variance with values (0.13, 0.12, 0.13, and 0.23) respectively. This indicates that most  individuals have similar values in these categories, reflecting limited variability in the dataset."
      ],
      "metadata": {
        "id": "0uC3hsWegeJN"
      }
    },
    {
      "cell_type": "code",
      "source": [
        "variance=df[selected_columns].var(numeric_only=True)\n",
        "print(variance)"
      ],
      "metadata": {
        "id": "WymQwBuOgjcq",
        "outputId": "a875d828-67f7-4fc2-ee50-343e314fcbec",
        "colab": {
          "base_uri": "https://localhost:8080/"
        }
      },
      "execution_count": 6,
      "outputs": [
        {
          "output_type": "stream",
          "name": "stdout",
          "text": [
            "Age                        80.824080\n",
            "BMI                        52.091413\n",
            "SystolicBP                673.368875\n",
            "DiastolicBP               309.495923\n",
            "CholesterolTotal         1809.841576\n",
            "CholesterolLDL           1880.660612\n",
            "CholesterolHDL            535.421368\n",
            "Hypertension                0.126792\n",
            "Gender                      0.250077\n",
            "CardiovascularDisease       0.123502\n",
            "Diabetes                    0.128096\n",
            "Diagnosis                   0.228689\n",
            "dtype: float64\n"
          ]
        }
      ]
    }
  ]
}