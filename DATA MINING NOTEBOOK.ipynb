{
  "nbformat": 4,
  "nbformat_minor": 0,
  "metadata": {
    "colab": {
      "provenance": [],
      "authorship_tag": "ABX9TyMVEmlA5Sh8qns4wBjSzoq9",
      "include_colab_link": true
    },
    "kernelspec": {
      "name": "python3",
      "display_name": "Python 3"
    },
    "language_info": {
      "name": "python"
    }
  },
  "cells": [
    {
      "cell_type": "markdown",
      "metadata": {
        "id": "view-in-github",
        "colab_type": "text"
      },
      "source": [
        "<a href=\"https://colab.research.google.com/github/leen204/mining-project/blob/main/DATA%20MINING%20NOTEBOOK.ipynb\" target=\"_parent\"><img src=\"https://colab.research.google.com/assets/colab-badge.svg\" alt=\"Open In Colab\"/></a>"
      ]
    },
    {
      "cell_type": "markdown",
      "source": [
        "#Goal"
      ],
      "metadata": {
        "id": "pv-OcoBfqGi6"
      }
    },
    {
      "cell_type": "markdown",
      "source": [
        "\n",
        "Goal: The goal of this project is to analyze the dataset, identify significant risk factors, and develop predictive models to assist in the early detection and understanding of Alzheimer’s Disease.\n"
      ],
      "metadata": {
        "id": "4mTwmufUqy70"
      }
    },
    {
      "cell_type": "markdown",
      "source": [
        "#Source\n"
      ],
      "metadata": {
        "id": "v3HxWHb-qGN3"
      }
    },
    {
      "cell_type": "markdown",
      "source": [
        "https://www.kaggle.com/datasets/rabieelkharoua/alzheimers-disease-dataset"
      ],
      "metadata": {
        "id": "HrkuMgm6q-x4"
      }
    },
    {
      "cell_type": "markdown",
      "source": [
        "#Dataset information\n"
      ],
      "metadata": {
        "id": "ZV5rCdouhMF1"
      }
    },
    {
      "cell_type": "markdown",
      "source": [
        "In order to efficiently retrive the dataset's information we need to import it as follows:\n"
      ],
      "metadata": {
        "id": "7S-vr41UhwCm"
      }
    },
    {
      "cell_type": "code",
      "source": [
        "import pandas as pd\n",
        "df = pd.read_csv('alzheimers_disease.csv')"
      ],
      "metadata": {
        "id": "xzw1kxxw4oeh"
      },
      "execution_count": 17,
      "outputs": []
    },
    {
      "cell_type": "markdown",
      "source": [
        "after that we can easily obtain the **Dataset Information:**\n",
        "\n",
        "Class label: Diagnosis"
      ],
      "metadata": {
        "id": "lkDouycr4-_6"
      }
    },
    {
      "cell_type": "code",
      "source": [
        "attribute_info = pd.DataFrame({\n",
        "    'NameOfAttribute' : df.columns,\n",
        "    'DataType' : df.dtypes.values\n",
        "})\n",
        "\n",
        "print(f\"Number of attributes: {len(df.columns)}\\n\")\n",
        "print(f\"Number of Objects: {len(df)}\\n\")\n",
        "print(f\"Attirbutes along with their types: \\n\")\n",
        "print(attribute_info)\n",
        "print('\\n')\n",
        "\n"
      ],
      "metadata": {
        "colab": {
          "base_uri": "https://localhost:8080/"
        },
        "id": "6T7aiO4g5Dtw",
        "outputId": "b068e6e7-2338-48da-8f53-454d634c8405"
      },
      "execution_count": 25,
      "outputs": [
        {
          "output_type": "stream",
          "name": "stdout",
          "text": [
            "Number of attributes: 13\n",
            "\n",
            "Number of Objects: 2149\n",
            "\n",
            "Attirbutes along with their types: \n",
            "\n",
            "            NameOfAttribute DataType\n",
            "0                       Age    int64\n",
            "1                    Gender    int64\n",
            "2                 Ethnicity    int64\n",
            "3            EducationLevel    int64\n",
            "4                       BMI  float64\n",
            "5          PhysicalActivity  float64\n",
            "6              SleepQuality  float64\n",
            "7   FamilyHistoryAlzheimers    int64\n",
            "8                HeadInjury    int64\n",
            "9          CholesterolTotal  float64\n",
            "10                     MMSE  float64\n",
            "11            Forgetfulness    int64\n",
            "12                Diagnosis    int64\n",
            "\n",
            "\n"
          ]
        }
      ]
    },
    {
      "cell_type": "markdown",
      "source": [
        "More in depth information about each attribute:\n",
        "\n",
        "1- Age: integer attribute showing the age of the patient ranging from 60-90\n",
        "\n",
        "2- Gender: Shows the gender of the patient where 0 is a male and 1 is a female\n",
        "\n",
        "3- Ethnicity: integer number attribute where each number corresponds to a certain ethnicity\n",
        "-0 is Caucasian\n",
        "-1 African American\n",
        "-2 Asian\n",
        "-3 Other\n",
        "\n",
        "4- Education level: integer number attribute where each number corresponds to the education level of the patient\n",
        "-0 None\n",
        "-1 High School\n",
        "-2 Bachelor's\n",
        "-3 Higher\n",
        "\n",
        "5- BMI: Continuous number attribute which stands for Body Mass Index of the patients, ranging from 15-40\n",
        "\n",
        "6- Physical Activity: Continuous number atrribute that shows the Weekly physical activity in hours, ranging from 0-10\n",
        "\n",
        "7- Sleep Quality: Continuous number attribute that shows Sleep quality score, ranging from 4-10\n",
        "\n",
        "8- Family History: number attribute that acts as a boolean determining whether the patient's family has a history of alzheimer or not\n",
        "\n",
        "9- HeadInjury: an attribute showing whether the patient has suffered a head injury or not.\n",
        "\n",
        "10- Cholesterol total: continuous number attribute showing total cholesterol levels, ranging from 150-300 mg\\Dl\n",
        "\n",
        "11- MMSE: continuous number attribute which stands for Mini-Mental State Examination score, ranging from 0 to 30. Lower scores indicate cognitive impairment.\n",
        "\n",
        "12- Forgetfulness: number attribute that acts as a boolean to specify whether the patiens has struggled with forgetfulness or not\n",
        "\n",
        "13- Diagnosis: the class label of our dataset where 0 indicates that the patient doesn't have an alzheimer diagnosis and 1 indicates otherwise"
      ],
      "metadata": {
        "id": "6UIuetVlJ-4o"
      }
    }
  ]
}